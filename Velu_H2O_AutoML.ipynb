{
  "nbformat": 4,
  "nbformat_minor": 0,
  "metadata": {
    "colab": {
      "name": "veludemo.ipynb",
      "provenance": [],
      "collapsed_sections": [],
      "include_colab_link": true
    },
    "kernelspec": {
      "name": "python3",
      "display_name": "Python 3"
    }
  },
  "cells": [
    {
      "cell_type": "markdown",
      "metadata": {
        "id": "view-in-github",
        "colab_type": "text"
      },
      "source": [
        "<a href=\"https://colab.research.google.com/github/velumahalingam/Velu-Demo/blob/master/Velu_H2O_AutoML.ipynb\" target=\"_parent\"><img src=\"https://colab.research.google.com/assets/colab-badge.svg\" alt=\"Open In Colab\"/></a>"
      ]
    },
    {
      "cell_type": "code",
      "metadata": {
        "id": "T_UrIczQIO_5",
        "colab_type": "code",
        "outputId": "497c0ce7-010d-4f35-8f1a-594b2b3fd5b1",
        "colab": {
          "base_uri": "https://localhost:8080/",
          "height": 34
        }
      },
      "source": [
        "print (\"Hello Velu\")"
      ],
      "execution_count": 1,
      "outputs": [
        {
          "output_type": "stream",
          "text": [
            "Hello Velu\n"
          ],
          "name": "stdout"
        }
      ]
    },
    {
      "cell_type": "code",
      "metadata": {
        "id": "5gy_iYJ-gBay",
        "colab_type": "code",
        "outputId": "ac15622e-ed88-4ec9-c306-c4113b126579",
        "colab": {
          "base_uri": "https://localhost:8080/",
          "height": 224
        }
      },
      "source": [
        "!apt-get install -y -qq software-properties-common python-software-properties module-init-tools\n",
        "!add-apt-repository -y ppa:alessandro-strada/ppa 2>&1 > /dev/null\n",
        "!apt-get update -qq 2>&1 > /dev/null\n",
        "!apt-get -y install -qq google-drive-ocamlfuse fuse\n",
        "from google.colab import auth\n",
        "auth.authenticate_user()\n",
        "from oauth2client.client import GoogleCredentials\n",
        "creds = GoogleCredentials.get_application_default()\n",
        "import getpass\n",
        "!google-drive-ocamlfuse -headless -id={creds.client_id} -secret={creds.client_secret} < /dev/null 2>&1 | grep URL\n",
        "vcode = getpass.getpass()\n",
        "!echo {vcode} | google-drive-ocamlfuse -headless -id={creds.client_id} -secret={creds.client_secret}"
      ],
      "execution_count": 2,
      "outputs": [
        {
          "output_type": "stream",
          "text": [
            "E: Package 'python-software-properties' has no installation candidate\n",
            "Selecting previously unselected package google-drive-ocamlfuse.\n",
            "(Reading database ... 135004 files and directories currently installed.)\n",
            "Preparing to unpack .../google-drive-ocamlfuse_0.7.14-0ubuntu1~ubuntu18.04.1_amd64.deb ...\n",
            "Unpacking google-drive-ocamlfuse (0.7.14-0ubuntu1~ubuntu18.04.1) ...\n",
            "Setting up google-drive-ocamlfuse (0.7.14-0ubuntu1~ubuntu18.04.1) ...\n",
            "Processing triggers for man-db (2.8.3-2ubuntu0.1) ...\n",
            "Please, open the following URL in a web browser: https://accounts.google.com/o/oauth2/auth?client_id=32555940559.apps.googleusercontent.com&redirect_uri=urn%3Aietf%3Awg%3Aoauth%3A2.0%3Aoob&scope=https%3A%2F%2Fwww.googleapis.com%2Fauth%2Fdrive&response_type=code&access_type=offline&approval_prompt=force\n",
            "··········\n",
            "Please, open the following URL in a web browser: https://accounts.google.com/o/oauth2/auth?client_id=32555940559.apps.googleusercontent.com&redirect_uri=urn%3Aietf%3Awg%3Aoauth%3A2.0%3Aoob&scope=https%3A%2F%2Fwww.googleapis.com%2Fauth%2Fdrive&response_type=code&access_type=offline&approval_prompt=force\n",
            "Please enter the verification code: Access token retrieved correctly.\n"
          ],
          "name": "stdout"
        }
      ]
    },
    {
      "cell_type": "code",
      "metadata": {
        "id": "dnOLlPFsgDfi",
        "colab_type": "code",
        "colab": {}
      },
      "source": [
        "## Mount google drive \n",
        "\n",
        "!mkdir -p drive \n",
        "!google-drive-ocamlfuse drive"
      ],
      "execution_count": 0,
      "outputs": []
    },
    {
      "cell_type": "code",
      "metadata": {
        "id": "n-yfJ9qwgORP",
        "colab_type": "code",
        "colab": {}
      },
      "source": [
        "import os\n"
      ],
      "execution_count": 0,
      "outputs": []
    },
    {
      "cell_type": "code",
      "metadata": {
        "id": "x-Kyg2XDfgtw",
        "colab_type": "code",
        "outputId": "c59a1d5e-81ab-4aad-d10c-a437227f6521",
        "colab": {
          "base_uri": "https://localhost:8080/",
          "height": 34
        }
      },
      "source": [
        "os.getcwd()"
      ],
      "execution_count": 5,
      "outputs": [
        {
          "output_type": "execute_result",
          "data": {
            "text/plain": [
              "'/content'"
            ]
          },
          "metadata": {
            "tags": []
          },
          "execution_count": 5
        }
      ]
    },
    {
      "cell_type": "code",
      "metadata": {
        "id": "miXpEGklfgxM",
        "colab_type": "code",
        "colab": {}
      },
      "source": [
        "os.chdir('/content/drive/ColabNotebooks/Code_Test')"
      ],
      "execution_count": 0,
      "outputs": []
    },
    {
      "cell_type": "code",
      "metadata": {
        "id": "C5bMq__6fg1A",
        "colab_type": "code",
        "outputId": "7432b13d-5934-40ff-b7e5-b645253717bd",
        "colab": {
          "base_uri": "https://localhost:8080/",
          "height": 34
        }
      },
      "source": [
        "os.getcwd()"
      ],
      "execution_count": 9,
      "outputs": [
        {
          "output_type": "execute_result",
          "data": {
            "text/plain": [
              "'/content/drive/ColabNotebooks/Code_Test'"
            ]
          },
          "metadata": {
            "tags": []
          },
          "execution_count": 9
        }
      ]
    },
    {
      "cell_type": "markdown",
      "metadata": {
        "id": "VIYjE128MK-t",
        "colab_type": "text"
      },
      "source": [
        ""
      ]
    },
    {
      "cell_type": "code",
      "metadata": {
        "id": "eEr-2hCYe7HE",
        "colab_type": "code",
        "outputId": "07a3fd1e-1639-4fc6-87cb-6324dcda6bd2",
        "colab": {
          "base_uri": "https://localhost:8080/",
          "height": 51
        }
      },
      "source": [
        "ls"
      ],
      "execution_count": 10,
      "outputs": [
        {
          "output_type": "stream",
          "text": [
            "C4V.csv            higgs_train_10k.csv  \u001b[0m\u001b[01;34mTimeSeriesAnalysisWithPython\u001b[0m/\n",
            "higgs_test_5k.csv  PerseusCaptoNew.csv  veludemo.ipynb\n"
          ],
          "name": "stdout"
        }
      ]
    },
    {
      "cell_type": "code",
      "metadata": {
        "id": "t6VZ6xjAYT8E",
        "colab_type": "code",
        "colab": {
          "base_uri": "https://localhost:8080/",
          "height": 360
        },
        "outputId": "911d4302-8b8b-4032-a096-9a0d574eda23"
      },
      "source": [
        "!pip install h2o"
      ],
      "execution_count": 12,
      "outputs": [
        {
          "output_type": "stream",
          "text": [
            "Collecting h2o\n",
            "\u001b[?25l  Downloading https://files.pythonhosted.org/packages/6b/d1/aaa74df4716b2454d6034261807ef3855d014862c801f0e9b803b568006d/h2o-3.28.0.1.tar.gz (123.4MB)\n",
            "\u001b[K     |████████████████████████████████| 123.4MB 95kB/s \n",
            "\u001b[?25hRequirement already satisfied: requests in /usr/local/lib/python3.6/dist-packages (from h2o) (2.21.0)\n",
            "Requirement already satisfied: tabulate in /usr/local/lib/python3.6/dist-packages (from h2o) (0.8.6)\n",
            "Requirement already satisfied: future in /usr/local/lib/python3.6/dist-packages (from h2o) (0.16.0)\n",
            "Collecting colorama>=0.3.8\n",
            "  Downloading https://files.pythonhosted.org/packages/c9/dc/45cdef1b4d119eb96316b3117e6d5708a08029992b2fee2c143c7a0a5cc5/colorama-0.4.3-py2.py3-none-any.whl\n",
            "Requirement already satisfied: urllib3<1.25,>=1.21.1 in /usr/local/lib/python3.6/dist-packages (from requests->h2o) (1.24.3)\n",
            "Requirement already satisfied: certifi>=2017.4.17 in /usr/local/lib/python3.6/dist-packages (from requests->h2o) (2019.11.28)\n",
            "Requirement already satisfied: idna<2.9,>=2.5 in /usr/local/lib/python3.6/dist-packages (from requests->h2o) (2.8)\n",
            "Requirement already satisfied: chardet<3.1.0,>=3.0.2 in /usr/local/lib/python3.6/dist-packages (from requests->h2o) (3.0.4)\n",
            "Building wheels for collected packages: h2o\n",
            "  Building wheel for h2o (setup.py) ... \u001b[?25l\u001b[?25hdone\n",
            "  Created wheel for h2o: filename=h2o-3.28.0.1-py2.py3-none-any.whl size=123410554 sha256=c8537ec086ef2a85a96dc573a29a9e69b022d675f18d3062382a8eb1f60d71cf\n",
            "  Stored in directory: /root/.cache/pip/wheels/ff/82/f4/3fe9c895b93c53b25ae44dc44aa54dad571c711f48bc485fe9\n",
            "Successfully built h2o\n",
            "Installing collected packages: colorama, h2o\n",
            "Successfully installed colorama-0.4.3 h2o-3.28.0.1\n"
          ],
          "name": "stdout"
        }
      ]
    },
    {
      "cell_type": "code",
      "metadata": {
        "id": "TGYNB8XwYYEw",
        "colab_type": "code",
        "colab": {
          "base_uri": "https://localhost:8080/",
          "height": 749
        },
        "outputId": "4970e8c0-db8d-45a7-cf29-6f593a692290"
      },
      "source": [
        "import h2o\n",
        "from h2o.automl import H2OAutoML, get_leaderboard\n",
        "\n",
        "h2o.init()"
      ],
      "execution_count": 13,
      "outputs": [
        {
          "output_type": "stream",
          "text": [
            "Checking whether there is an H2O instance running at http://localhost:54321 ..... not found.\n",
            "Attempting to start a local H2O server...\n",
            "  Java Version: openjdk version \"11.0.5\" 2019-10-15; OpenJDK Runtime Environment (build 11.0.5+10-post-Ubuntu-0ubuntu1.118.04); OpenJDK 64-Bit Server VM (build 11.0.5+10-post-Ubuntu-0ubuntu1.118.04, mixed mode, sharing)\n",
            "  Starting server from /usr/local/lib/python3.6/dist-packages/h2o/backend/bin/h2o.jar\n",
            "  Ice root: /tmp/tmplmjiy_1c\n",
            "  JVM stdout: /tmp/tmplmjiy_1c/h2o_unknownUser_started_from_python.out\n",
            "  JVM stderr: /tmp/tmplmjiy_1c/h2o_unknownUser_started_from_python.err\n",
            "  Server is running at http://127.0.0.1:54321\n",
            "Connecting to H2O server at http://127.0.0.1:54321 ... successful.\n"
          ],
          "name": "stdout"
        },
        {
          "output_type": "display_data",
          "data": {
            "text/html": [
              "<div style=\"overflow:auto\"><table style=\"width:50%\"><tr><td>H2O cluster uptime:</td>\n",
              "<td>02 secs</td></tr>\n",
              "<tr><td>H2O cluster timezone:</td>\n",
              "<td>Etc/UTC</td></tr>\n",
              "<tr><td>H2O data parsing timezone:</td>\n",
              "<td>UTC</td></tr>\n",
              "<tr><td>H2O cluster version:</td>\n",
              "<td>3.28.0.1</td></tr>\n",
              "<tr><td>H2O cluster version age:</td>\n",
              "<td>9 days </td></tr>\n",
              "<tr><td>H2O cluster name:</td>\n",
              "<td>H2O_from_python_unknownUser_5ochwq</td></tr>\n",
              "<tr><td>H2O cluster total nodes:</td>\n",
              "<td>1</td></tr>\n",
              "<tr><td>H2O cluster free memory:</td>\n",
              "<td>3 Gb</td></tr>\n",
              "<tr><td>H2O cluster total cores:</td>\n",
              "<td>2</td></tr>\n",
              "<tr><td>H2O cluster allowed cores:</td>\n",
              "<td>2</td></tr>\n",
              "<tr><td>H2O cluster status:</td>\n",
              "<td>accepting new members, healthy</td></tr>\n",
              "<tr><td>H2O connection url:</td>\n",
              "<td>http://127.0.0.1:54321</td></tr>\n",
              "<tr><td>H2O connection proxy:</td>\n",
              "<td>{'http': None, 'https': None}</td></tr>\n",
              "<tr><td>H2O internal security:</td>\n",
              "<td>False</td></tr>\n",
              "<tr><td>H2O API Extensions:</td>\n",
              "<td>Amazon S3, XGBoost, Algos, AutoML, Core V3, TargetEncoder, Core V4</td></tr>\n",
              "<tr><td>Python version:</td>\n",
              "<td>3.6.9 final</td></tr></table></div>"
            ],
            "text/plain": [
              "--------------------------  ------------------------------------------------------------------\n",
              "H2O cluster uptime:         02 secs\n",
              "H2O cluster timezone:       Etc/UTC\n",
              "H2O data parsing timezone:  UTC\n",
              "H2O cluster version:        3.28.0.1\n",
              "H2O cluster version age:    9 days\n",
              "H2O cluster name:           H2O_from_python_unknownUser_5ochwq\n",
              "H2O cluster total nodes:    1\n",
              "H2O cluster free memory:    3 Gb\n",
              "H2O cluster total cores:    2\n",
              "H2O cluster allowed cores:  2\n",
              "H2O cluster status:         accepting new members, healthy\n",
              "H2O connection url:         http://127.0.0.1:54321\n",
              "H2O connection proxy:       {'http': None, 'https': None}\n",
              "H2O internal security:      False\n",
              "H2O API Extensions:         Amazon S3, XGBoost, Algos, AutoML, Core V3, TargetEncoder, Core V4\n",
              "Python version:             3.6.9 final\n",
              "--------------------------  ------------------------------------------------------------------"
            ]
          },
          "metadata": {
            "tags": []
          }
        }
      ]
    },
    {
      "cell_type": "code",
      "metadata": {
        "id": "amwoK89aYdEF",
        "colab_type": "code",
        "colab": {
          "base_uri": "https://localhost:8080/",
          "height": 34
        },
        "outputId": "24c1d4d2-825c-4ca9-c51c-af7ffe21f8e2"
      },
      "source": [
        "import os\n",
        "os.getcwd()"
      ],
      "execution_count": 15,
      "outputs": [
        {
          "output_type": "execute_result",
          "data": {
            "text/plain": [
              "'/content/drive/ColabNotebooks/Code_Test'"
            ]
          },
          "metadata": {
            "tags": []
          },
          "execution_count": 15
        }
      ]
    },
    {
      "cell_type": "code",
      "metadata": {
        "id": "1oPpINSRYdHk",
        "colab_type": "code",
        "colab": {}
      },
      "source": [
        "# Import a sample binary outcome train/test set into H2O\n",
        "import pandas as pd\n",
        "import csv\n"
      ],
      "execution_count": 0,
      "outputs": []
    },
    {
      "cell_type": "code",
      "metadata": {
        "id": "iGE53zpTYdNx",
        "colab_type": "code",
        "colab": {
          "base_uri": "https://localhost:8080/",
          "height": 51
        },
        "outputId": "b79bfd92-9fa7-4655-ee7a-e4a6c92968b4"
      },
      "source": [
        "# Import a sample binary outcome train/test set into H2O\n",
        "train = h2o.import_file(\"/content/drive/ColabNotebooks/Code_Test/higgs_train_10k.csv\")\n",
        "test = h2o.import_file(\"/content/drive/ColabNotebooks/Code_Test/higgs_test_5k.csv\")\n",
        "\n"
      ],
      "execution_count": 20,
      "outputs": [
        {
          "output_type": "stream",
          "text": [
            "Parse progress: |█████████████████████████████████████████████████████████| 100%\n",
            "Parse progress: |█████████████████████████████████████████████████████████| 100%\n"
          ],
          "name": "stdout"
        }
      ]
    },
    {
      "cell_type": "code",
      "metadata": {
        "id": "0wAoUZH3YdQ7",
        "colab_type": "code",
        "colab": {}
      },
      "source": [
        "# Identify predictors and response\n",
        "x = train.columns\n",
        "y = \"response\"\n",
        "x.remove(y)"
      ],
      "execution_count": 0,
      "outputs": []
    },
    {
      "cell_type": "code",
      "metadata": {
        "id": "HgQ93E36YdUE",
        "colab_type": "code",
        "colab": {}
      },
      "source": [
        "# For binary classification, response should be a factor\n",
        "train[y] = train[y].asfactor()\n",
        "test[y] = test[y].asfactor()"
      ],
      "execution_count": 0,
      "outputs": []
    },
    {
      "cell_type": "code",
      "metadata": {
        "id": "GVGXMol7bW8T",
        "colab_type": "code",
        "colab": {
          "base_uri": "https://localhost:8080/",
          "height": 34
        },
        "outputId": "ed815b03-7e56-43d5-84d8-b6a918bfd563"
      },
      "source": [
        "# Run AutoML for 20 base models (limited to 1 hour max runtime by default)\n",
        "aml = H2OAutoML(max_models=20, seed=1)\n",
        "aml.train(x=x, y=y, training_frame=train)"
      ],
      "execution_count": 23,
      "outputs": [
        {
          "output_type": "stream",
          "text": [
            "AutoML progress: |████████████████████████████████████████████████████████| 100%\n"
          ],
          "name": "stdout"
        }
      ]
    },
    {
      "cell_type": "code",
      "metadata": {
        "id": "ucbX-KIIbW_P",
        "colab_type": "code",
        "colab": {
          "base_uri": "https://localhost:8080/",
          "height": 522
        },
        "outputId": "205ed1a3-8850-4c83-cc0f-186222728644"
      },
      "source": [
        "# AutoML Leaderboard\n",
        "lb = aml.leaderboard\n",
        "\n",
        "# Optionally edd extra model information to the leaderboard\n",
        "lb = get_leaderboard(aml, extra_columns='ALL')\n",
        "\n",
        "# Print all rows (instead of default 10 rows)\n",
        "lb.head(rows=lb.nrows)"
      ],
      "execution_count": 24,
      "outputs": [
        {
          "output_type": "display_data",
          "data": {
            "text/html": [
              "<table>\n",
              "<thead>\n",
              "<tr><th>model_id                                           </th><th style=\"text-align: right;\">     auc</th><th style=\"text-align: right;\">  logloss</th><th style=\"text-align: right;\">   aucpr</th><th style=\"text-align: right;\">  mean_per_class_error</th><th style=\"text-align: right;\">    rmse</th><th style=\"text-align: right;\">     mse</th><th style=\"text-align: right;\">  training_time_ms</th><th style=\"text-align: right;\">  predict_time_per_row_ms</th></tr>\n",
              "</thead>\n",
              "<tbody>\n",
              "<tr><td>StackedEnsemble_AllModels_AutoML_20191226_133845   </td><td style=\"text-align: right;\">0.789613</td><td style=\"text-align: right;\"> 0.551457</td><td style=\"text-align: right;\">0.805056</td><td style=\"text-align: right;\">              0.308972</td><td style=\"text-align: right;\">0.432207</td><td style=\"text-align: right;\">0.186803</td><td style=\"text-align: right;\">              4920</td><td style=\"text-align: right;\">                 0.335826</td></tr>\n",
              "<tr><td>StackedEnsemble_BestOfFamily_AutoML_20191226_133845</td><td style=\"text-align: right;\">0.788912</td><td style=\"text-align: right;\"> 0.552287</td><td style=\"text-align: right;\">0.803328</td><td style=\"text-align: right;\">              0.307921</td><td style=\"text-align: right;\">0.432483</td><td style=\"text-align: right;\">0.187041</td><td style=\"text-align: right;\">              2128</td><td style=\"text-align: right;\">                 0.101815</td></tr>\n",
              "<tr><td>XGBoost_grid__1_AutoML_20191226_133845_model_3     </td><td style=\"text-align: right;\">0.784783</td><td style=\"text-align: right;\"> 0.558539</td><td style=\"text-align: right;\">0.802597</td><td style=\"text-align: right;\">              0.328578</td><td style=\"text-align: right;\">0.435036</td><td style=\"text-align: right;\">0.189256</td><td style=\"text-align: right;\">              4019</td><td style=\"text-align: right;\">                 0.008126</td></tr>\n",
              "<tr><td>XGBoost_grid__1_AutoML_20191226_133845_model_1     </td><td style=\"text-align: right;\">0.784653</td><td style=\"text-align: right;\"> 0.5581  </td><td style=\"text-align: right;\">0.802569</td><td style=\"text-align: right;\">              0.319823</td><td style=\"text-align: right;\">0.434987</td><td style=\"text-align: right;\">0.189214</td><td style=\"text-align: right;\">              6092</td><td style=\"text-align: right;\">                 0.012309</td></tr>\n",
              "<tr><td>XGBoost_3_AutoML_20191226_133845                   </td><td style=\"text-align: right;\">0.783759</td><td style=\"text-align: right;\"> 0.558382</td><td style=\"text-align: right;\">0.80096 </td><td style=\"text-align: right;\">              0.322163</td><td style=\"text-align: right;\">0.435252</td><td style=\"text-align: right;\">0.189445</td><td style=\"text-align: right;\">              4351</td><td style=\"text-align: right;\">                 0.011641</td></tr>\n",
              "<tr><td>XGBoost_grid__1_AutoML_20191226_133845_model_4     </td><td style=\"text-align: right;\">0.783664</td><td style=\"text-align: right;\"> 0.557696</td><td style=\"text-align: right;\">0.802604</td><td style=\"text-align: right;\">              0.33427 </td><td style=\"text-align: right;\">0.43517 </td><td style=\"text-align: right;\">0.189373</td><td style=\"text-align: right;\">              4297</td><td style=\"text-align: right;\">                 0.012192</td></tr>\n",
              "<tr><td>GBM_5_AutoML_20191226_133845                       </td><td style=\"text-align: right;\">0.78219 </td><td style=\"text-align: right;\"> 0.558353</td><td style=\"text-align: right;\">0.800234</td><td style=\"text-align: right;\">              0.319658</td><td style=\"text-align: right;\">0.435512</td><td style=\"text-align: right;\">0.18967 </td><td style=\"text-align: right;\">              2306</td><td style=\"text-align: right;\">                 0.016959</td></tr>\n",
              "<tr><td>XGBoost_2_AutoML_20191226_133845                   </td><td style=\"text-align: right;\">0.782155</td><td style=\"text-align: right;\"> 0.557366</td><td style=\"text-align: right;\">0.801728</td><td style=\"text-align: right;\">              0.337128</td><td style=\"text-align: right;\">0.435331</td><td style=\"text-align: right;\">0.189514</td><td style=\"text-align: right;\">              7132</td><td style=\"text-align: right;\">                 0.012597</td></tr>\n",
              "<tr><td>XGBoost_1_AutoML_20191226_133845                   </td><td style=\"text-align: right;\">0.780395</td><td style=\"text-align: right;\"> 0.5593  </td><td style=\"text-align: right;\">0.800388</td><td style=\"text-align: right;\">              0.322149</td><td style=\"text-align: right;\">0.436235</td><td style=\"text-align: right;\">0.190301</td><td style=\"text-align: right;\">              6991</td><td style=\"text-align: right;\">                 0.012304</td></tr>\n",
              "<tr><td>GBM_2_AutoML_20191226_133845                       </td><td style=\"text-align: right;\">0.777673</td><td style=\"text-align: right;\"> 0.562514</td><td style=\"text-align: right;\">0.796181</td><td style=\"text-align: right;\">              0.334056</td><td style=\"text-align: right;\">0.437583</td><td style=\"text-align: right;\">0.191479</td><td style=\"text-align: right;\">              1838</td><td style=\"text-align: right;\">                 0.016011</td></tr>\n",
              "<tr><td>GBM_1_AutoML_20191226_133845                       </td><td style=\"text-align: right;\">0.777294</td><td style=\"text-align: right;\"> 0.562744</td><td style=\"text-align: right;\">0.798244</td><td style=\"text-align: right;\">              0.356261</td><td style=\"text-align: right;\">0.437727</td><td style=\"text-align: right;\">0.191605</td><td style=\"text-align: right;\">              2194</td><td style=\"text-align: right;\">                 0.013842</td></tr>\n",
              "<tr><td>GBM_3_AutoML_20191226_133845                       </td><td style=\"text-align: right;\">0.775488</td><td style=\"text-align: right;\"> 0.564794</td><td style=\"text-align: right;\">0.793585</td><td style=\"text-align: right;\">              0.327971</td><td style=\"text-align: right;\">0.438722</td><td style=\"text-align: right;\">0.192477</td><td style=\"text-align: right;\">              1892</td><td style=\"text-align: right;\">                 0.01489 </td></tr>\n",
              "<tr><td>GBM_grid__1_AutoML_20191226_133845_model_1         </td><td style=\"text-align: right;\">0.772656</td><td style=\"text-align: right;\"> 0.568314</td><td style=\"text-align: right;\">0.79164 </td><td style=\"text-align: right;\">              0.332175</td><td style=\"text-align: right;\">0.440049</td><td style=\"text-align: right;\">0.193643</td><td style=\"text-align: right;\">              2003</td><td style=\"text-align: right;\">                 0.019537</td></tr>\n",
              "<tr><td>GBM_4_AutoML_20191226_133845                       </td><td style=\"text-align: right;\">0.77248 </td><td style=\"text-align: right;\"> 0.569483</td><td style=\"text-align: right;\">0.791078</td><td style=\"text-align: right;\">              0.336913</td><td style=\"text-align: right;\">0.440873</td><td style=\"text-align: right;\">0.194369</td><td style=\"text-align: right;\">              2600</td><td style=\"text-align: right;\">                 0.01626 </td></tr>\n",
              "<tr><td>XGBoost_grid__1_AutoML_20191226_133845_model_2     </td><td style=\"text-align: right;\">0.770723</td><td style=\"text-align: right;\"> 0.579883</td><td style=\"text-align: right;\">0.789715</td><td style=\"text-align: right;\">              0.331893</td><td style=\"text-align: right;\">0.444775</td><td style=\"text-align: right;\">0.197824</td><td style=\"text-align: right;\">             13225</td><td style=\"text-align: right;\">                 0.018458</td></tr>\n",
              "<tr><td>DRF_1_AutoML_20191226_133845                       </td><td style=\"text-align: right;\">0.764975</td><td style=\"text-align: right;\"> 0.5801  </td><td style=\"text-align: right;\">0.781588</td><td style=\"text-align: right;\">              0.336001</td><td style=\"text-align: right;\">0.445222</td><td style=\"text-align: right;\">0.198222</td><td style=\"text-align: right;\">              3425</td><td style=\"text-align: right;\">                 0.02237 </td></tr>\n",
              "<tr><td>XRT_1_AutoML_20191226_133845                       </td><td style=\"text-align: right;\">0.759957</td><td style=\"text-align: right;\"> 0.585158</td><td style=\"text-align: right;\">0.776857</td><td style=\"text-align: right;\">              0.338976</td><td style=\"text-align: right;\">0.447598</td><td style=\"text-align: right;\">0.200344</td><td style=\"text-align: right;\">              3814</td><td style=\"text-align: right;\">                 0.021339</td></tr>\n",
              "<tr><td>DeepLearning_grid__2_AutoML_20191226_133845_model_1</td><td style=\"text-align: right;\">0.748401</td><td style=\"text-align: right;\"> 0.594788</td><td style=\"text-align: right;\">0.756697</td><td style=\"text-align: right;\">              0.368186</td><td style=\"text-align: right;\">0.452047</td><td style=\"text-align: right;\">0.204347</td><td style=\"text-align: right;\">             54638</td><td style=\"text-align: right;\">                 0.041462</td></tr>\n",
              "<tr><td>GBM_grid__1_AutoML_20191226_133845_model_2         </td><td style=\"text-align: right;\">0.748007</td><td style=\"text-align: right;\"> 0.632981</td><td style=\"text-align: right;\">0.758833</td><td style=\"text-align: right;\">              0.375308</td><td style=\"text-align: right;\">0.462237</td><td style=\"text-align: right;\">0.213663</td><td style=\"text-align: right;\">              1882</td><td style=\"text-align: right;\">                 0.012447</td></tr>\n",
              "<tr><td>DeepLearning_1_AutoML_20191226_133845              </td><td style=\"text-align: right;\">0.708377</td><td style=\"text-align: right;\"> 0.626848</td><td style=\"text-align: right;\">0.710365</td><td style=\"text-align: right;\">              0.403435</td><td style=\"text-align: right;\">0.466074</td><td style=\"text-align: right;\">0.217225</td><td style=\"text-align: right;\">              1296</td><td style=\"text-align: right;\">                 0.00523 </td></tr>\n",
              "<tr><td>DeepLearning_grid__1_AutoML_20191226_133845_model_1</td><td style=\"text-align: right;\">0.699743</td><td style=\"text-align: right;\"> 0.644389</td><td style=\"text-align: right;\">0.703379</td><td style=\"text-align: right;\">              0.402206</td><td style=\"text-align: right;\">0.471778</td><td style=\"text-align: right;\">0.222575</td><td style=\"text-align: right;\">             34408</td><td style=\"text-align: right;\">                 0.012099</td></tr>\n",
              "<tr><td>GLM_1_AutoML_20191226_133845                       </td><td style=\"text-align: right;\">0.682648</td><td style=\"text-align: right;\"> 0.63852 </td><td style=\"text-align: right;\">0.680344</td><td style=\"text-align: right;\">              0.397234</td><td style=\"text-align: right;\">0.472683</td><td style=\"text-align: right;\">0.223429</td><td style=\"text-align: right;\">               817</td><td style=\"text-align: right;\">                 0.003127</td></tr>\n",
              "</tbody>\n",
              "</table>"
            ]
          },
          "metadata": {
            "tags": []
          }
        },
        {
          "output_type": "execute_result",
          "data": {
            "text/plain": [
              ""
            ]
          },
          "metadata": {
            "tags": []
          },
          "execution_count": 24
        }
      ]
    },
    {
      "cell_type": "code",
      "metadata": {
        "id": "wrAjnsoNbXE_",
        "colab_type": "code",
        "colab": {
          "base_uri": "https://localhost:8080/",
          "height": 267
        },
        "outputId": "bac39f23-0103-4f3a-99fd-0d39db032623"
      },
      "source": [
        "pred = aml.predict(test)\n",
        "pred.head()"
      ],
      "execution_count": 25,
      "outputs": [
        {
          "output_type": "stream",
          "text": [
            "stackedensemble prediction progress: |████████████████████████████████████| 100%\n"
          ],
          "name": "stdout"
        },
        {
          "output_type": "display_data",
          "data": {
            "text/html": [
              "<table>\n",
              "<thead>\n",
              "<tr><th style=\"text-align: right;\">  predict</th><th style=\"text-align: right;\">      p0</th><th style=\"text-align: right;\">      p1</th></tr>\n",
              "</thead>\n",
              "<tbody>\n",
              "<tr><td style=\"text-align: right;\">        0</td><td style=\"text-align: right;\">0.727874</td><td style=\"text-align: right;\">0.272126</td></tr>\n",
              "<tr><td style=\"text-align: right;\">        0</td><td style=\"text-align: right;\">0.707479</td><td style=\"text-align: right;\">0.292521</td></tr>\n",
              "<tr><td style=\"text-align: right;\">        0</td><td style=\"text-align: right;\">0.636903</td><td style=\"text-align: right;\">0.363097</td></tr>\n",
              "<tr><td style=\"text-align: right;\">        1</td><td style=\"text-align: right;\">0.304194</td><td style=\"text-align: right;\">0.695806</td></tr>\n",
              "<tr><td style=\"text-align: right;\">        0</td><td style=\"text-align: right;\">0.676923</td><td style=\"text-align: right;\">0.323077</td></tr>\n",
              "<tr><td style=\"text-align: right;\">        1</td><td style=\"text-align: right;\">0.266163</td><td style=\"text-align: right;\">0.733837</td></tr>\n",
              "<tr><td style=\"text-align: right;\">        1</td><td style=\"text-align: right;\">0.27689 </td><td style=\"text-align: right;\">0.72311 </td></tr>\n",
              "<tr><td style=\"text-align: right;\">        1</td><td style=\"text-align: right;\">0.620423</td><td style=\"text-align: right;\">0.379577</td></tr>\n",
              "<tr><td style=\"text-align: right;\">        0</td><td style=\"text-align: right;\">0.671162</td><td style=\"text-align: right;\">0.328838</td></tr>\n",
              "<tr><td style=\"text-align: right;\">        0</td><td style=\"text-align: right;\">0.826923</td><td style=\"text-align: right;\">0.173077</td></tr>\n",
              "</tbody>\n",
              "</table>"
            ]
          },
          "metadata": {
            "tags": []
          }
        },
        {
          "output_type": "execute_result",
          "data": {
            "text/plain": [
              ""
            ]
          },
          "metadata": {
            "tags": []
          },
          "execution_count": 25
        }
      ]
    },
    {
      "cell_type": "code",
      "metadata": {
        "id": "yPs1Xtd1bXIZ",
        "colab_type": "code",
        "colab": {}
      },
      "source": [
        "test"
      ],
      "execution_count": 0,
      "outputs": []
    },
    {
      "cell_type": "code",
      "metadata": {
        "id": "NQcZvCgebXLY",
        "colab_type": "code",
        "colab": {}
      },
      "source": [
        ""
      ],
      "execution_count": 0,
      "outputs": []
    }
  ]
}